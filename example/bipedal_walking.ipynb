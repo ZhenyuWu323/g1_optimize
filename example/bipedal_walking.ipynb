{
 "cells": [
  {
   "attachments": {},
   "cell_type": "markdown",
   "metadata": {},
   "source": [
    "##  Multi-Contact dynamics for biped walking (Talos legs)\n",
    "In this example, we describe the multi-contact dynamics through holonomic constraints for the support legs. From the Gauss principle, we have derived the model as:\n",
    "$$\n",
    "\\left[\\begin{matrix}\n",
    " \\mathbf{M} & \\mathbf{J}^{\\top}_c \\\\\n",
    " {\\mathbf{J}_{c}} & \\mathbf{0} \\\\\n",
    "\\end{matrix}\\right]\n",
    "\\left[\\begin{matrix}\n",
    " \\dot{\\mathbf{v}} \\\\ -\\boldsymbol{\\lambda}\n",
    "\\end{matrix}\\right]\n",
    " = \n",
    "\\left[\\begin{matrix}\n",
    "  \\boldsymbol{\\tau} - \\mathbf{h} \\\\\n",
    "  -\\dot{\\mathbf{J}}_c \\mathbf{v} \\\\\n",
    "\\end{matrix}\\right]$$.\n",
    "\n",
    "\n",
    "Base on a predefined walking gait, we build per each phase a specific multi-contact dynamics. Indeed we need to describe multi-phase optimal control problem. One can formulate the multi-contact optimal control problem (MCOP) as follows:\n",
    "\n",
    "\n",
    "$$\\mathbf{X}^*,\\mathbf{U}^*=\n",
    "\\begin{Bmatrix} \\mathbf{x}^*_0,\\cdots,\\mathbf{x}^*_N \\\\\n",
    "\t\t\t\t  \\mathbf{u}^*_0,\\cdots,\\mathbf{u}^*_N\n",
    "\\end{Bmatrix} =\n",
    "\\arg\\min_{\\mathbf{X},\\mathbf{U}} \\sum_{p=0}^P \\sum_{k=1}^{N(p)} \\int_{t_k}^{t_k+\\Delta t} l_p(\\mathbf{x},\\mathbf{u})dt$$\n",
    "subject to\n",
    "$$ \\mathbf{\\dot{x}} = \\mathbf{f}_p(\\mathbf{x},\\mathbf{u}), \\text{for } t \\in [\\tau_p,\\tau_{p+1}]$$\n",
    "\n",
    "$$ \\mathbf{g}(\\mathbf{v}^{p+1},\\mathbf{v}^p) = \\mathbf{0}$$\n",
    "\n",
    "$$ \\mathbf{x}\\in\\mathcal{X}_p, \\mathbf{u}\\in\\mathcal{U}_p, \\boldsymbol{\\lambda}\\in\\mathcal{K}_p.$$\n",
    "\n",
    "where $\\mathbf{g}(\\cdot,\\cdot,\\cdot)$ describes the contact dynamics, and they represents terminal constraints in each walking phase. In this example we use the following impact model:\n",
    "\n",
    "$$\\mathbf{M}(\\mathbf{v}_{next}-\\mathbf{v}) = \\mathbf{J}_{impulse}^T$$\n",
    "\n",
    "$$\\mathbf{J}_{impulse} \\mathbf{v}_{next} = \\mathbf{0}$$\n",
    "\n",
    "$$\\mathbf{J}_{c} \\mathbf{v}_{next} = \\mathbf{J}_{c} \\mathbf{v}$$"
   ]
  },
  {
   "attachments": {},
   "cell_type": "markdown",
   "metadata": {},
   "source": [
    "`SimpleBipedGaitProblem` class builds action models for each locomotion phase:\n",
    "  - `createSwingFootModel`: defines an action model for the swing phase\n",
    "  - `createFootSwitchModel`: defines an action model for switch knots between phases\n",
    "  \n",
    "Then we build a walking by combining a set of contact phases and their contact switches. This is defined by `createFootstepModel`\n",
    "\n",
    "Now let's create a walking OC problem for the Talos legs."
   ]
  },
  {
   "cell_type": "code",
   "execution_count": 1,
   "metadata": {},
   "outputs": [
    {
     "name": "stdout",
     "output_type": "stream",
     "text": [
      "You can open the visualizer by visiting the following URL:\n",
      "http://127.0.0.1:7000/static/\n"
     ]
    }
   ],
   "source": [
    "import example_robot_data\n",
    "import numpy as np\n",
    "import pinocchio\n",
    "\n",
    "import crocoddyl\n",
    "from crocoddyl.utils.biped import SimpleBipedGaitProblem\n",
    "\n",
    "# Creating the lower-body part of Talos\n",
    "talos_legs = example_robot_data.load(\"talos_legs\")\n",
    "\n",
    "# Setting up the 3d walking problem\n",
    "rightFoot = \"right_sole_link\"\n",
    "leftFoot = \"left_sole_link\"\n",
    "gait = SimpleBipedGaitProblem(talos_legs.model, rightFoot, leftFoot)\n",
    "\n",
    "\n",
    "# Create the initial state\n",
    "q0 = talos_legs.q0.copy()\n",
    "v0 = pinocchio.utils.zero(talos_legs.model.nv)\n",
    "x0 = np.concatenate([q0, v0])\n",
    "\n",
    "\n",
    "# Creating the walking problem\n",
    "stepLength = 0.6  # meters\n",
    "stepHeight = 0.1  # meters\n",
    "timeStep = 0.0375  # seconds\n",
    "stepKnots = 20\n",
    "supportKnots = 10\n",
    "problem = gait.createWalkingProblem(\n",
    "    x0, stepLength, stepHeight, timeStep, stepKnots, supportKnots\n",
    ")\n",
    "\n",
    "\n",
    "# Solving the 3d walking problem using Feasibility-prone DDP\n",
    "ddp = crocoddyl.SolverFDDP(problem)\n",
    "\n",
    "# Using the meshcat displayer, you could enable gepetto viewer for nicer view\n",
    "#display = crocoddyl.GepettoDisplay(talos_legs, 4, 4)\n",
    "display = crocoddyl.MeshcatDisplay(talos_legs, 4, 4, False)\n",
    "ddp.setCallbacks(\n",
    "    [\n",
    "        crocoddyl.CallbackLogger(),\n",
    "        crocoddyl.CallbackVerbose(),\n",
    "        crocoddyl.CallbackDisplay(display),\n",
    "    ]\n",
    ")"
   ]
  },
  {
   "cell_type": "code",
   "execution_count": 13,
   "metadata": {},
   "outputs": [
    {
     "data": {
      "text/html": [
       "\n",
       "            <div style=\"height: 400px; width: 100%; overflow-x: auto; overflow-y: hidden; resize: both\">\n",
       "            <iframe src=\"http://127.0.0.1:7014/static/\" style=\"width: 100%; height: 100%; border: none\"></iframe>\n",
       "            </div>\n",
       "            "
      ],
      "text/plain": [
       "<IPython.core.display.HTML object>"
      ]
     },
     "execution_count": 13,
     "metadata": {},
     "output_type": "execute_result"
    }
   ],
   "source": [
    "# Emdebbed meshcat in this cell\n",
    "display.robot.viewer.jupyter_cell()"
   ]
  },
  {
   "cell_type": "code",
   "execution_count": 14,
   "metadata": {},
   "outputs": [
    {
     "name": "stdout",
     "output_type": "stream",
     "text": [
      "iter    cost       merit      stop      |grad|      preg       dreg      step   ||ffeas||  ||gfeas||  ||hfeas||   dV-exp       dV      dPhi-exp     dPhi\n",
      "   0  5.708e+06  0.000e+00  2.259e+07  4.523e+07  1.000e-01  1.000e-01  0.5000  1.867e+00  0.000e+00  0.000e+00  1.695e+07  1.690e+07  0.000e+00  0.000e+00\n",
      "   1  4.966e+04  0.000e+00  5.700e+06  1.138e+07  1.000e-02  1.000e-02  1.0000  9.334e-01  0.000e+00  0.000e+00  5.700e+06  5.659e+06  0.000e+00  0.000e+00\n",
      "   2  4.136e+04  0.000e+00  4.488e+04  8.976e+04  1.000e-03  1.000e-03  1.0000  0.000e+00  0.000e+00  0.000e+00  4.488e+04  8.307e+03  0.000e+00  0.000e+00\n",
      "   3  1.436e+04  0.000e+00  3.641e+04  7.282e+04  1.000e-04  1.000e-04  1.0000  0.000e+00  0.000e+00  0.000e+00  3.641e+04  2.700e+04  0.000e+00  0.000e+00\n",
      "   4  1.042e+04  0.000e+00  9.873e+03  1.975e+04  1.000e-05  1.000e-05  1.0000  0.000e+00  0.000e+00  0.000e+00  9.873e+03  3.935e+03  0.000e+00  0.000e+00\n",
      "   5  5.381e+03  0.000e+00  5.536e+03  1.107e+04  1.000e-06  1.000e-06  1.0000  0.000e+00  0.000e+00  0.000e+00  5.536e+03  5.043e+03  0.000e+00  0.000e+00\n",
      "   6  5.274e+03  0.000e+00  9.570e+02  1.914e+03  1.000e-06  1.000e-06  0.2500  0.000e+00  0.000e+00  0.000e+00  4.187e+02  1.066e+02  0.000e+00  0.000e+00\n",
      "   7  4.663e+03  0.000e+00  6.246e+02  1.249e+03  1.000e-07  1.000e-07  1.0000  0.000e+00  0.000e+00  0.000e+00  6.246e+02  6.107e+02  0.000e+00  0.000e+00\n",
      "   8  4.660e+03  0.000e+00  3.594e+01  7.188e+01  1.000e-07  1.000e-07  0.2500  0.000e+00  0.000e+00  0.000e+00  1.572e+01  3.570e+00  0.000e+00  0.000e+00\n",
      "   9  4.639e+03  0.000e+00  2.054e+01  4.109e+01  1.000e-08  1.000e-08  1.0000  0.000e+00  0.000e+00  0.000e+00  2.054e+01  2.058e+01  0.000e+00  0.000e+00\n",
      "iter    cost       merit      stop      |grad|      preg       dreg      step   ||ffeas||  ||gfeas||  ||hfeas||   dV-exp       dV      dPhi-exp     dPhi\n",
      "  10  4.638e+03  0.000e+00  1.348e+00  2.695e+00  1.000e-09  1.000e-09  1.0000  0.000e+00  0.000e+00  0.000e+00  1.348e+00  1.028e+00  0.000e+00  0.000e+00\n",
      "  11  4.638e+03  0.000e+00  3.116e-01  6.232e-01  1.000e-09  1.000e-09  1.0000  0.000e+00  0.000e+00  0.000e+00  3.116e-01  3.117e-01  0.000e+00  0.000e+00\n",
      "  12  4.638e+03  0.000e+00  1.893e-05  3.785e-05  1.000e-09  1.000e-09  1.0000  0.000e+00  0.000e+00  0.000e+00  1.893e-05  1.987e-05  0.000e+00  0.000e+00\n",
      "  13  4.638e+03  0.000e+00  4.198e-07  8.396e-07  1.000e-09  1.000e-09  1.0000  0.000e+00  0.000e+00  0.000e+00  4.198e-07  4.245e-07  0.000e+00  0.000e+00\n",
      "  14  4.638e+03  0.000e+00  1.665e-08  3.330e-08  1.000e-09  1.000e-09  1.0000  0.000e+00  0.000e+00  0.000e+00  1.665e-08  1.566e-08  0.000e+00  0.000e+00\n",
      "  15  4.638e+03  0.000e+00  7.794e-10  1.559e-09  1.000e-09  1.000e-09  1.0000  0.000e+00  0.000e+00  0.000e+00  7.794e-10  6.366e-10  0.000e+00  0.000e+00\n"
     ]
    },
    {
     "data": {
      "text/plain": [
       "True"
      ]
     },
     "execution_count": 14,
     "metadata": {},
     "output_type": "execute_result"
    }
   ],
   "source": [
    "# Solve the optimal control problem\n",
    "ddp.th_stop = 1e-9\n",
    "init_xs = [x0] * (problem.T + 1)\n",
    "init_us = []\n",
    "maxiter = 1000\n",
    "regInit = 0.1\n",
    "ddp.solve(init_xs, init_us, maxiter, False, regInit)"
   ]
  },
  {
   "attachments": {},
   "cell_type": "markdown",
   "metadata": {},
   "source": [
    "With the following commands we can plot \n",
    " - the state and control trajectories\n",
    " - the DDP performance"
   ]
  },
  {
   "cell_type": "code",
   "execution_count": null,
   "metadata": {},
   "outputs": [],
   "source": [
    "import matplotlib\n",
    "# Plotting the solution and the DDP convergence\n",
    "log = ddp.getCallbacks()[0]\n",
    "crocoddyl.plotOCSolution(log.xs, log.us)\n",
    "crocoddyl.plotConvergence(\n",
    "    log.costs, log.pregs, log.dregs, log.grads, log.stops, log.steps\n",
    ")"
   ]
  },
  {
   "attachments": {},
   "cell_type": "markdown",
   "metadata": {},
   "source": [
    "Finally we can visualize the solution."
   ]
  },
  {
   "cell_type": "code",
   "execution_count": 17,
   "metadata": {},
   "outputs": [],
   "source": [
    "# Visualization of the DDP solution in meshcat\n",
    "display.rate = -1\n",
    "display.freq = 1\n",
    "display.displayFromSolver(ddp)"
   ]
  },
  {
   "attachments": {},
   "cell_type": "markdown",
   "metadata": {},
   "source": [
    "## VI. Understanding the walking problem\n",
    "\n",
    "In this problem we pre-defined a 20 and 10 knots for the step and double support phases with $dt=$3.75e-2, repectively. \n",
    "\n",
    " 1. Could you tell us how much is the foot step and double support duration?\n",
    " 2. What happens when do we change $dt$ (e.g. 2e-2 secs)?\n",
    " 3. What happens when do we change the number of step knots (e.g. 10)?\n"
   ]
  }
 ],
 "metadata": {
  "kernelspec": {
   "display_name": "robotool",
   "language": "python",
   "name": "python3"
  },
  "language_info": {
   "codemirror_mode": {
    "name": "ipython",
    "version": 3
   },
   "file_extension": ".py",
   "mimetype": "text/x-python",
   "name": "python",
   "nbconvert_exporter": "python",
   "pygments_lexer": "ipython3",
   "version": "3.10.13"
  }
 },
 "nbformat": 4,
 "nbformat_minor": 2
}
